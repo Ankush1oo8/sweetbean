{
 "nbformat": 4,
 "nbformat_minor": 0,
 "metadata": {
  "colab": {
   "provenance": [],
   "collapsed_sections": [
    "gdpTK0CZSwMO",
    "XqMqCndbWwrx",
    "Z7n2ypl_YHir",
    "l4xeYOQYXb6x"
   ]
  },
  "kernelspec": {
   "name": "python3",
   "display_name": "Python 3"
  },
  "language_info": {
   "name": "python"
  }
 },
 "cells": [
  {
   "cell_type": "markdown",
   "source": [
    "# Mastery\n",
    "Here, we create a task switching experiment."
   ],
   "metadata": {
    "id": "YmmUtUIar_NS"
   }
  },
  {
   "cell_type": "markdown",
   "source": [
    "## Installing sweetbean"
   ],
   "metadata": {
    "id": "E5DW7Mg5swMl"
   }
  },
  {
   "cell_type": "code",
   "source": [
    "!pip install sweetbean"
   ],
   "metadata": {
    "id": "4f4nnUgPuQZ9",
    "colab": {
     "base_uri": "https://localhost:8080/"
    },
    "outputId": "32575139-fcff-4f5e-ec7b-e858d09bd8d0"
   },
   "execution_count": null,
   "outputs": [
    {
     "output_type": "stream",
     "name": "stdout",
     "text": [
      "Looking in indexes: https://pypi.org/simple, https://us-python.pkg.dev/colab-wheels/public/simple/\n",
      "Collecting sweetbean\n",
      "  Downloading sweetbean-0.0.19-py3-none-any.whl (206 kB)\n",
      "\u001B[2K     \u001B[90m━━━━━━━━━━━━━━━━━━━━━━━━━━━━━━━━━━━━━━━\u001B[0m \u001B[32m206.1/206.1 KB\u001B[0m \u001B[31m9.8 MB/s\u001B[0m eta \u001B[36m0:00:00\u001B[0m\n",
      "\u001B[?25hInstalling collected packages: sweetbean\n",
      "Successfully installed sweetbean-0.0.19\n"
     ]
    }
   ]
  },
  {
   "cell_type": "markdown",
   "source": [
    "Given the following timeline, could you progam a task switching experiment?"
   ],
   "metadata": {
    "id": "WV_t3zqMRWsH"
   }
  },
  {
   "cell_type": "code",
   "source": [
    "timeline = [\n",
    "    {'color': 'red', 'word': 'RED', 'task': 'color_naming'},\n",
    "    {'color': 'green', 'word': 'GREEN', 'task': 'color_naming'},\n",
    "    {'color': 'green', 'word': 'RED', 'task': 'word_reading'},\n",
    "    {'color': 'red', 'word': 'GREEN', 'task': 'word_reading'},\n",
    "]"
   ],
   "metadata": {
    "id": "Joq9bmOeSuFe"
   },
   "execution_count": null,
   "outputs": []
  },
  {
   "cell_type": "markdown",
   "source": [
    "First we want to declare the timeline variables"
   ],
   "metadata": {
    "id": "OfkhXdnEWFVP"
   }
  },
  {
   "cell_type": "code",
   "source": [
    "# Enter your code here:"
   ],
   "metadata": {
    "id": "QpDewU19WNtm"
   },
   "execution_count": null,
   "outputs": []
  },
  {
   "cell_type": "markdown",
   "source": [
    "### Solution"
   ],
   "metadata": {
    "id": "gdpTK0CZSwMO"
   }
  },
  {
   "cell_type": "code",
   "source": [
    "# imports\n",
    "from sweetbean.parameter import TimelineVariable\n",
    "\n",
    "color = TimelineVariable('color', ['red', 'green'])\n",
    "word = TimelineVariable('word', ['RED', 'GREEN'])\n",
    "task = TimelineVariable('task', ['color_naming', 'word_reading'])"
   ],
   "metadata": {
    "id": "dw9vuCGrSyk_",
    "colab": {
     "base_uri": "https://localhost:8080/",
     "height": 393
    },
    "outputId": "824461ce-285a-49a7-e9a3-6bb1bd221278"
   },
   "execution_count": null,
   "outputs": [
    {
     "output_type": "error",
     "ename": "ModuleNotFoundError",
     "evalue": "No module named 'sweetbean'",
     "traceback": [
      "\u001B[0;31m---------------------------------------------------------------------------\u001B[0m",
      "\u001B[0;31mModuleNotFoundError\u001B[0m                       Traceback (most recent call last)",
      "\u001B[0;32m<ipython-input-1-7aab684b0f93>\u001B[0m in \u001B[0;36m<cell line: 2>\u001B[0;34m()\u001B[0m\n\u001B[1;32m      1\u001B[0m \u001B[0;31m# imports\u001B[0m\u001B[0;34m\u001B[0m\u001B[0;34m\u001B[0m\u001B[0m\n\u001B[0;32m----> 2\u001B[0;31m \u001B[0;32mfrom\u001B[0m \u001B[0msweetbean\u001B[0m\u001B[0;34m.\u001B[0m\u001B[0mparameter\u001B[0m \u001B[0;32mimport\u001B[0m \u001B[0mTimelineVariable\u001B[0m\u001B[0;34m\u001B[0m\u001B[0;34m\u001B[0m\u001B[0m\n\u001B[0m\u001B[1;32m      3\u001B[0m \u001B[0;34m\u001B[0m\u001B[0m\n\u001B[1;32m      4\u001B[0m \u001B[0mcolor\u001B[0m \u001B[0;34m=\u001B[0m \u001B[0mTimelineVariable\u001B[0m\u001B[0;34m(\u001B[0m\u001B[0;34m'color'\u001B[0m\u001B[0;34m,\u001B[0m \u001B[0;34m[\u001B[0m\u001B[0;34m'red'\u001B[0m\u001B[0;34m,\u001B[0m \u001B[0;34m'green'\u001B[0m\u001B[0;34m]\u001B[0m\u001B[0;34m)\u001B[0m\u001B[0;34m\u001B[0m\u001B[0;34m\u001B[0m\u001B[0m\n\u001B[1;32m      5\u001B[0m \u001B[0mword\u001B[0m \u001B[0;34m=\u001B[0m \u001B[0mTimelineVariable\u001B[0m\u001B[0;34m(\u001B[0m\u001B[0;34m'word'\u001B[0m\u001B[0;34m,\u001B[0m \u001B[0;34m[\u001B[0m\u001B[0;34m'RED'\u001B[0m\u001B[0;34m,\u001B[0m \u001B[0;34m'GREEN'\u001B[0m\u001B[0;34m]\u001B[0m\u001B[0;34m)\u001B[0m\u001B[0;34m\u001B[0m\u001B[0;34m\u001B[0m\u001B[0m\n",
      "\u001B[0;31mModuleNotFoundError\u001B[0m: No module named 'sweetbean'",
      "",
      "\u001B[0;31m---------------------------------------------------------------------------\u001B[0;32m\nNOTE: If your import is failing due to a missing package, you can\nmanually install dependencies using either !pip or !apt.\n\nTo view examples of installing some common dependencies, click the\n\"Open Examples\" button below.\n\u001B[0;31m---------------------------------------------------------------------------\u001B[0m\n"
     ],
     "errorDetails": {
      "actions": [
       {
        "action": "open_url",
        "actionText": "Open Examples",
        "url": "/notebooks/snippets/importing_libraries.ipynb"
       }
      ]
     }
    }
   ]
  },
  {
   "cell_type": "markdown",
   "source": [
    "## Creating the fixation\n",
    "The fixation cross will vary between the two tasks, maybe we can show a `+`, when the task is color_naming, and a `x` when the task is word_reaging. We can do this with derived parameters"
   ],
   "metadata": {
    "id": "qciisI4wwtsv"
   }
  },
  {
   "cell_type": "code",
   "source": [
    "# Enter your code here:"
   ],
   "metadata": {
    "id": "0vfgMothWtwB"
   },
   "execution_count": null,
   "outputs": []
  },
  {
   "cell_type": "markdown",
   "source": [
    "### Solution"
   ],
   "metadata": {
    "id": "XqMqCndbWwrx"
   }
  },
  {
   "cell_type": "code",
   "source": [
    "from sweetbean.parameter import DerivedLevel, DerivedParameter\n",
    "\n",
    "# Predicates\n",
    "def is_fixation_plus(task):\n",
    "    return task == 'color_naming'\n",
    "\n",
    "def is_fixation_x(task):\n",
    "    return task == 'word_reading'\n",
    "\n",
    "# Levels\n",
    "x_shape = DerivedLevel('x', is_fixation_x, [task])\n",
    "plus_shape = DerivedLevel('+', is_fixation_plus, [task])\n",
    "\n",
    "# parameter\n",
    "fixation_shape = DerivedParameter('fixation_shape', [x_shape, plus_shape])\n"
   ],
   "metadata": {
    "id": "w9fF4jACw7y5"
   },
   "execution_count": null,
   "outputs": []
  },
  {
   "cell_type": "markdown",
   "source": [
    "## Creating the correct response\n",
    "Now lets create a correct response parameter. This one is tricky! It will depend on the color, the word and the task. So the predicate will have three input arguments. Let's say we want the participant to press f when the color is \"red\" in the color_naming task or the word is \"RED\" in the word_reading task. They should press j when the color is \"green\" in the color_naming task or the word is \"GREEN\" in the word_reading task."
   ],
   "metadata": {
    "id": "jI187rtxxVRl"
   }
  },
  {
   "cell_type": "code",
   "source": [
    "# Predicate for f\n",
    "def is_correct_f(word, color, task):\n",
    "    return (task == 'word_reading' and word == 'RED') or \\\n",
    "        (task == 'color_naming' and color == 'red')\n",
    "\n",
    "# Derived level for f\n",
    "f_key = DerivedLevel('f', is_correct_f, [word, color, task])\n",
    "\n",
    "# Enter your code for the\n",
    "# Predicate for j:\n",
    "\n",
    "# Derived level for j:\n",
    "\n",
    "# Parameter for the response:\n",
    "\n"
   ],
   "metadata": {
    "id": "sTdVHiJkXsam"
   },
   "execution_count": null,
   "outputs": []
  },
  {
   "cell_type": "markdown",
   "source": [
    "### Solution"
   ],
   "metadata": {
    "id": "Z7n2ypl_YHir"
   }
  },
  {
   "cell_type": "code",
   "source": [
    "# There are multiple solutions. Can you see why this one works?\n",
    "def is_correct_j(word, color, task):\n",
    "    return not is_correct_f(word, color, task)\n",
    "\n",
    "# j level\n",
    "j_key = DerivedLevel('j', is_correct_j, [word, color, task])\n",
    "\n",
    "# Parameter for the response\n",
    "correct_key = DerivedParameter('correct', [j_key, f_key])"
   ],
   "metadata": {
    "id": "_rMzKwt0YJS4"
   },
   "execution_count": null,
   "outputs": []
  },
  {
   "cell_type": "markdown",
   "source": [
    "## Finishing the experiment\n",
    "Now, create the stimuli, the block and the experiment"
   ],
   "metadata": {
    "id": "BH_uPjk0WXiJ"
   }
  },
  {
   "cell_type": "code",
   "source": [
    "# Enter your code here:"
   ],
   "metadata": {
    "id": "FJp7MgndY7Vj"
   },
   "execution_count": null,
   "outputs": []
  },
  {
   "cell_type": "markdown",
   "source": [
    "### Solution\n"
   ],
   "metadata": {
    "id": "l4xeYOQYXb6x"
   }
  },
  {
   "cell_type": "code",
   "source": [
    "from sweetbean.stimulus import TextStimulus\n",
    "from sweetbean.sequence import Block, Experiment\n",
    "\n",
    "# Stimuli\n",
    "fixation = TextStimulus(1000, fixation_shape)\n",
    "so_s = TextStimulus(800)\n",
    "stroop = TextStimulus(2000, word, color, ['j', 'g'], correct_key)\n",
    "so_f = TextStimulus(300)\n",
    "\n",
    "# Block\n",
    "train_block = Block([fixation, so_s, stroop, so_f], timeline)\n",
    "experiment = Experiment([train_block])\n",
    "\n",
    "# Experiment\n",
    "experiment.to_html('index.html')"
   ],
   "metadata": {
    "id": "k5b_aGSKZEgM"
   },
   "execution_count": null,
   "outputs": []
  }
 ]
}
