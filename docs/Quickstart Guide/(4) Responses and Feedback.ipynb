{
 "nbformat": 4,
 "nbformat_minor": 0,
 "metadata": {
  "colab": {
   "provenance": [],
   "collapsed_sections": [
    "gdpTK0CZSwMO",
    "pKtgG0hHlB7k",
    "eCwUlgJ1qMQY"
   ]
  },
  "kernelspec": {
   "name": "python3",
   "display_name": "Python 3"
  },
  "language_info": {
   "name": "python"
  }
 },
 "cells": [
  {
   "cell_type": "markdown",
   "source": [
    "# (4) Responses and Feedback\n",
    "\n",
    "Here, we learn how to add a feedback stimulus indicating a correct or false response."
   ],
   "metadata": {
    "id": "YmmUtUIar_NS"
   }
  },
  {
   "cell_type": "markdown",
   "source": [
    "## Installing sweetbean"
   ],
   "metadata": {
    "id": "E5DW7Mg5swMl"
   }
  },
  {
   "cell_type": "code",
   "source": [
    "!pip install sweetbean"
   ],
   "metadata": {
    "id": "4f4nnUgPuQZ9",
    "outputId": "56e078c4-f3bc-4e38-8188-dbe55f2b8547",
    "colab": {
     "base_uri": "https://localhost:8080/"
    }
   },
   "execution_count": null,
   "outputs": [
    {
     "output_type": "stream",
     "name": "stdout",
     "text": [
      "Looking in indexes: https://pypi.org/simple, https://us-python.pkg.dev/colab-wheels/public/simple/\n",
      "Requirement already satisfied: sweetbean in /usr/local/lib/python3.8/dist-packages (0.0.19)\n"
     ]
    }
   ]
  },
  {
   "cell_type": "markdown",
   "source": [
    "Now, we are looking to incorporate responses from the participant and response feedback to the experiment. Specifically, we would like the participant to press the key `f` using their left index finger when the ink color of the color word is red. Similarly, we would like the participant to press the key `j` with their right index finger when the color is green.\n",
    "\n",
    "You can practice your SweetBean skills by implementing these instructions in a block (if you feel comfortable creating text stimuli you can skip this part and use the instructions block in the solution):"
   ],
   "metadata": {
    "id": "WV_t3zqMRWsH"
   }
  },
  {
   "cell_type": "code",
   "source": [
    "# Enter your code here:"
   ],
   "metadata": {
    "id": "Joq9bmOeSuFe"
   },
   "execution_count": null,
   "outputs": []
  },
  {
   "cell_type": "markdown",
   "source": [
    "### Solution"
   ],
   "metadata": {
    "id": "gdpTK0CZSwMO"
   }
  },
  {
   "cell_type": "code",
   "source": [
    "# imports\n",
    "from sweetbean.stimulus import TextStimulus\n",
    "from sweetbean.sequence import Block\n",
    "\n",
    "# Creating the Instructions\n",
    "welcome = TextStimulus(text=\"Welcome to our experiment.<br>Here, you will have to react to the ink color of a color word.<br>Press SPACE to continue\", choices=[' '])\n",
    "instruction_red = TextStimulus(text=\"If the ink color is <b>red<b>,<br>press <b>F<b> with your left index finger as fast as possible.<br>Press F to continue\", choices=['f'])\n",
    "instruction_green = TextStimulus(text=\"If the ink color is <b>green<b>,<br>press <b>J<b> with your right index finger as fast as possible.<br>Press J to continue\", choices=['j'])\n",
    "instructions_end = TextStimulus(text=\"The experiment will start now.<br>React as fast an as accurate as possible.<br>Remember:<br>React to the ink color not the meaning of the word.<br>Ress SPACE to continus\", choices=[' '])\n",
    "\n",
    "# Creating the stimulus sequence\n",
    "instructions_sequence = [welcome, instruction_red, instruction_green, instructions_end]\n",
    "\n",
    "# Creating the block\n",
    "instructions_block = Block(instructions_sequence)"
   ],
   "metadata": {
    "id": "dw9vuCGrSyk_"
   },
   "execution_count": null,
   "outputs": []
  },
  {
   "cell_type": "markdown",
   "source": [
    "## Creating a timeline"
   ],
   "metadata": {
    "id": "qciisI4wwtsv"
   }
  },
  {
   "cell_type": "code",
   "source": [
    "timeline = [\n",
    "    {'color': 'red', 'word': 'RED'},\n",
    "    {'color': 'green', 'word': 'GREEN'},\n",
    "    {'color': 'green', 'word': 'RED'},\n",
    "    {'color': 'red', 'word': 'GREEN'},\n",
    "]"
   ],
   "metadata": {
    "id": "w9fF4jACw7y5"
   },
   "execution_count": null,
   "outputs": []
  },
  {
   "cell_type": "markdown",
   "source": [
    "## Declare TimelineVariables\n",
    "Do you remember how to declare the timeline variables(if you feel comfortable creating timeline variables, you can skip this part and use the solution)?"
   ],
   "metadata": {
    "id": "jI187rtxxVRl"
   }
  },
  {
   "cell_type": "code",
   "source": [
    "# Enter your code here:"
   ],
   "metadata": {
    "id": "AmOjJQAlMRor"
   },
   "execution_count": null,
   "outputs": []
  },
  {
   "cell_type": "markdown",
   "source": [
    "### Solution"
   ],
   "metadata": {
    "id": "6Rqz4M6LMVuV"
   }
  },
  {
   "cell_type": "code",
   "source": [
    "# import the functionality from sweetbean\n",
    "from sweetbean.parameter import TimelineVariable\n",
    "\n",
    "## declare the timeline variables\n",
    "\n",
    "# color: The name has to be color (it is the name in the timeline), and it has the levels red and green\n",
    "color = TimelineVariable(name=\"color\", levels=[\"red\", \"green\"])\n",
    "\n",
    "# word: The name has to be word (it is the name in the timeline), and it has the levels RED and GREEN\n",
    "word = TimelineVariable(name=\"word\", levels=[\"RED\", \"GREEN\"])\n"
   ],
   "metadata": {
    "id": "4pNsfNfXywmz"
   },
   "execution_count": null,
   "outputs": []
  },
  {
   "cell_type": "markdown",
   "source": [
    "## Creating derived variables\n",
    "In SweetBean, in addition to static parameters and timeline parameters, we can also use dervived parameters. These are parameters, that derive from other features of the trial. Here, we want to derive the correct key from the ink color of the stimulus. Remember: `f` for red color words and `j` for green color words."
   ],
   "metadata": {
    "id": "BH_uPjk0WXiJ"
   }
  },
  {
   "cell_type": "markdown",
   "source": [
    "### Defining the functions\n",
    "To define the various levels of the derived parameter, we need to create functions (known as predicates) for each level. These functions should accept the features that the derived parameter depends on and should return `True` when the conditions for the specific level of the derived parameter are met.\n",
    "\n",
    "For example, the function for the level `f` should return `True` if the color is red, and `False` in all other cases. Similarly, the function for the level `j` should return `True` if the color is green, and `False` in all other cases."
   ],
   "metadata": {
    "id": "l4xeYOQYXb6x"
   }
  },
  {
   "cell_type": "code",
   "source": [
    "# defining the predicate for the f-level of the \"correct response\" parameter\n",
    "def is_correct_f(color):\n",
    "  return color == 'red'\n",
    "\n",
    "# defining the predicate for the j-level of the \"correct response\" paramater\n",
    "def is_correct_j(color):\n",
    "  return color == 'green'"
   ],
   "metadata": {
    "id": "k5b_aGSKZEgM"
   },
   "execution_count": null,
   "outputs": []
  },
  {
   "cell_type": "markdown",
   "source": [
    "Some people might have trouble understanding the code above. A equivalent writing with an if and else statement is:\n",
    "```\n",
    "def is_correct_f(color):\n",
    "  if color == 'red':\n",
    "    return True\n",
    "  else:\n",
    "    return False\n",
    "\n",
    "def is_correct_j(color):\n",
    "  if color == 'green':\n",
    "    return True\n",
    "  else:\n",
    "    return False\n",
    "```\n",
    "<details><summary>Optional: Python is whitespace sensitive!</summary>In contrast to many other programming languages, Python is whitespace sensitive. Whitespaces in Python do matter and are used to block the code, for example to define functions, in loops or blocks of if-else statements. In that sense they are equivalent to the curly brackets '{}' in Java, JavaScript, C++ and many other programming languages.\n",
    "</details>\n"
   ],
   "metadata": {
    "id": "aFJ3wwaXZjxk"
   }
  },
  {
   "cell_type": "markdown",
   "source": [
    "## Creating the derived levels\n",
    "With the predicates defined, we can now define the corresponding levels. The first argument of the derived level constructor is it's value, the second is the predicate and the third is a list of the parameters it depends on."
   ],
   "metadata": {
    "id": "18oeypPj1m75"
   }
  },
  {
   "cell_type": "code",
   "source": [
    "# importing the functionality\n",
    "from sweetbean.parameter import DerivedLevel\n",
    "\n",
    "# declare the f level\n",
    "correct_response_f = DerivedLevel(value='f', predicate=is_correct_f, factors=[color])\n",
    "\n",
    "# declare the j level\n",
    "correct_response_j = DerivedLevel('j', is_correct_j, [color])"
   ],
   "metadata": {
    "id": "gjhbk-pO275w"
   },
   "execution_count": null,
   "outputs": []
  },
  {
   "cell_type": "markdown",
   "source": [
    "## Create the derived Parameter\n",
    "Now, that we declared the levels of the parameter, we can declare the parameter itself."
   ],
   "metadata": {
    "id": "TdQvaCBsSwtw"
   }
  },
  {
   "cell_type": "code",
   "source": [
    "# importing the functionality\n",
    "from sweetbean.parameter import DerivedParameter\n",
    "\n",
    "# declare the \"correct response\" parameter\n",
    "correct_response = DerivedParameter(name='correct_response', levels=[correct_response_f, correct_response_j])"
   ],
   "metadata": {
    "id": "XDFlHCGCS2MA"
   },
   "execution_count": null,
   "outputs": []
  },
  {
   "cell_type": "markdown",
   "source": [
    "## Create the stimulus\n",
    "The derived parameter can be used in the creation of the stimulus just as a static or a timeline parameter. Here, we introduce another feature of the text stimulus: We can provide a correct_key parameter. This correct_key parameter can be used for data analysis later, but it can also be used to provide feedback (we will see how this is used later in this tutorial)"
   ],
   "metadata": {
    "id": "wm79hO3mc2dU"
   }
  },
  {
   "cell_type": "code",
   "source": [
    "# imports\n",
    "from sweetbean.stimulus import TextStimulus\n",
    "\n",
    "# declaring the stimulus\n",
    "stroop = TextStimulus(duration=2500, text=word, color=color, choices=['j', 'f'], correct_key=correct_response)"
   ],
   "metadata": {
    "id": "1cKf0DQb8d6N"
   },
   "execution_count": null,
   "outputs": []
  },
  {
   "cell_type": "markdown",
   "source": [
    "This is a stimulus that shows a color word in the color and with the word provided by the timeline. The stimulus is shown for 2500ms or till a response is given. The user can press either `j` or `f`.\n",
    "\n",
    "<details><summary>Comprehension question: Can you think of another way to get the correct_key parameter that doesnt' depend on a derived paramter?</summary>Here, we used the derived paramter to demonstrate how it is used. But we could also simply add the keys to the timeline and use a timeline varibale insted. Often times, there are multiple ways of implementing a desired experiment.</details>"
   ],
   "metadata": {
    "id": "ndeZnvwCdw0A"
   }
  },
  {
   "cell_type": "markdown",
   "source": [
    "## Adding feedback\n",
    "To add feedback, we introduce yet another type of variable. The data-variable. At the end of each stimulus, data for this stimulus is stored in a container. This data contains stimulus features like color, word and duration, but also user input like key presses. With the data variable, we can access this container to create adaptive stimuli like feedback.\n"
   ],
   "metadata": {
    "id": "ztNwDwzTUqGh"
   }
  },
  {
   "cell_type": "markdown",
   "source": [
    "## Creating the data variable\n",
    "We create a data variable for the correct-data of a trial. This is a special data point, that can be accessed in stimuli that have the correct_key parameter. A comprehensive list of data points that can be accessed will be made available in the documentation (It is mainly the data that gets stored via <a href=\"https://www.jspsych.org/7.3/\">jsPsych</a>."
   ],
   "metadata": {
    "id": "xnpjSWWXfbY2"
   }
  },
  {
   "cell_type": "code",
   "source": [
    "# import\n",
    "from sweetbean.parameter import DataVariable\n",
    "\n",
    "# declare the data variable\n",
    "correct = DataVariable('correct', [True, False])"
   ],
   "metadata": {
    "id": "pe8Grj_X5Jge"
   },
   "execution_count": null,
   "outputs": []
  },
  {
   "cell_type": "markdown",
   "source": [
    "## Defining the function\n",
    "In the same way we can access timeline variables in predicate functions, we can also access data variables."
   ],
   "metadata": {
    "id": "AttyWzC5hoXB"
   }
  },
  {
   "cell_type": "code",
   "source": [
    "# positive feedback after correct responses (remember the correct data variable has boolean levels itself)\n",
    "def is_positive_feedback(correct):\n",
    "  return correct\n",
    "\n",
    "# negative feedback after incorrect responses\n",
    "def is_negative_feedback(correct):\n",
    "  return not correct"
   ],
   "metadata": {
    "id": "FGBrY-d1h4wf"
   },
   "execution_count": null,
   "outputs": []
  },
  {
   "cell_type": "markdown",
   "source": [
    "## Creating the derived levels\n",
    "Now we create the levels for the text parameter of the feedback stimulus.\n",
    "\n",
    "Note: We provide an additional argument to this constructor. The purpose of this argument is to access the data variable of the stimulus that came before the current stimulus, which is the stroop stimulus in this case.\n",
    "\n",
    "The number `1` provided at the end of the constructor indicates that we want to access the data variable of the stimulus that occurred one stimulus back in time, which is the stroop stimulus. If we were to include an additional onset between the stroop and the feedback stimuli, we could insert a blank screen and then access the correct-data variable of the stimulus that occurred two stimuli back by providing a `2` as the last argument of the constructor."
   ],
   "metadata": {
    "id": "CF7RHg3_iasp"
   }
  },
  {
   "cell_type": "code",
   "source": [
    "positive_word_feedback = DerivedLevel('correct', is_positive_feedback, [correct], 1)\n",
    "negative_word_feedback = DerivedLevel('false', is_negative_feedback, [correct], 1)"
   ],
   "metadata": {
    "id": "8SBJfC5SijYz"
   },
   "execution_count": null,
   "outputs": []
  },
  {
   "cell_type": "markdown",
   "source": [
    "## Creating parameter\n",
    "We create the word parameter for the feedback stimulus"
   ],
   "metadata": {
    "id": "hCzQhBa_kKIQ"
   }
  },
  {
   "cell_type": "code",
   "source": [
    "feedback_word = DerivedParameter('feedback_word', [positive_word_feedback, negative_word_feedback])"
   ],
   "metadata": {
    "id": "flbqg1cIkY8R"
   },
   "execution_count": null,
   "outputs": []
  },
  {
   "cell_type": "markdown",
   "source": [
    "<details><summary>Comprehension question: Can you think of another way to get the feeback word parameter that doesnt' depend on a derived paramter?</summary>Here, we can not use a timeline, since this is an adaptive parameter. We have to use the derived parameter and the data variable since we have use information derived from user input.</details>"
   ],
   "metadata": {
    "id": "Yy6_py5eoqfM"
   }
  },
  {
   "cell_type": "markdown",
   "source": [
    "## Create a parameter for the color of the feedback.\n",
    "Maybe we also want to change the color of the feedback (green for positive and red for negative feedback). Can you create the derived parameter?"
   ],
   "metadata": {
    "id": "f8ngD6I4knfs"
   }
  },
  {
   "cell_type": "code",
   "source": [
    "# Enter your code:\n",
    "# ...\n",
    "feedback_color = None"
   ],
   "metadata": {
    "id": "POrdQJQtk8Ic"
   },
   "execution_count": null,
   "outputs": []
  },
  {
   "cell_type": "markdown",
   "source": [
    "### Solution"
   ],
   "metadata": {
    "id": "pKtgG0hHlB7k"
   }
  },
  {
   "cell_type": "code",
   "source": [
    "# create the levels\n",
    "positive_color_feedback = DerivedLevel('green', is_positive_feedback, [correct], 1)\n",
    "negative_color_feedback = DerivedLevel('red', is_negative_feedback, [correct], 1)\n",
    "# create the parameter\n",
    "feedback_color = DerivedParameter('feedback_color', [positive_color_feedback, negative_color_feedback])"
   ],
   "metadata": {
    "id": "HthxjdoplDQ2"
   },
   "execution_count": null,
   "outputs": []
  },
  {
   "cell_type": "markdown",
   "source": [
    "## Creating the feedback stimulus"
   ],
   "metadata": {
    "id": "vD9nC-j_VdIN"
   }
  },
  {
   "cell_type": "code",
   "source": [
    "feedback = TextStimulus(duration=1000, text=feedback_word,color=feedback_color)"
   ],
   "metadata": {
    "id": "qCBFvQvJljHq"
   },
   "execution_count": null,
   "outputs": []
  },
  {
   "cell_type": "markdown",
   "source": [
    "## Adding a fixation cross, creating the block, creating the experiment and exporting the html\n",
    "\n",
    "You can practice your SweetBean skills by adding a fixation cross and finishing experiment (Remember there are two blocks now, if you feel comfortable creating blocks and experiments you can skip this part and use the code in the solution):"
   ],
   "metadata": {
    "id": "QLUlVXSYV09Z"
   }
  },
  {
   "cell_type": "code",
   "source": [
    "# Enter your code:"
   ],
   "metadata": {
    "id": "6ohWIiwhqJS1"
   },
   "execution_count": null,
   "outputs": []
  },
  {
   "cell_type": "markdown",
   "source": [
    "### Solution"
   ],
   "metadata": {
    "id": "eCwUlgJ1qMQY"
   }
  },
  {
   "cell_type": "code",
   "source": [
    "# import the functionality from sweetbean to create experiments\n",
    "from sweetbean.sequence import Block, Experiment\n",
    "\n",
    "# fixation stimulus\n",
    "fixation = TextStimulus(800, '+')\n",
    "\n",
    "# create a stimulus sequence\n",
    "stimulus_sequence = [fixation, stroop, feedback]\n",
    "\n",
    "# create the trial block\n",
    "trial_block = Block(stimulus_sequence, timeline)\n",
    "\n",
    "# create the experiment from the two blocks\n",
    "experiment = Experiment([instructions_block, trial_block])\n",
    "\n",
    "# export to the html file\n",
    "experiment.to_html('index.html')\n"
   ],
   "metadata": {
    "id": "7VdprIMSV4bY"
   },
   "execution_count": null,
   "outputs": []
  }
 ]
}
