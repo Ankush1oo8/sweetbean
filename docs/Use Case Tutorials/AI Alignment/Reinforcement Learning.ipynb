{
 "cells": [
  {
   "metadata": {},
   "cell_type": "markdown",
   "source": [
    "# Reinforcement Learning\n",
    "\n",
    "Here, we will implement a simple two armed bandit task. We then run the same task on a language model specifically trained on tasks like these ([centaur](https://marcelbinz.github.io/centaur/)) and compare the results.\n",
    "\n",
    "## Two-Armed Bandit Task\n",
    "\n",
    "### Imports"
   ],
   "id": "9b59ed742e18a0f5"
  },
  {
   "metadata": {
    "ExecuteTime": {
     "end_time": "2024-12-01T18:55:31.993583Z",
     "start_time": "2024-12-01T18:55:31.966327Z"
    }
   },
   "cell_type": "code",
   "source": [
    "from sweetbean import Block, Experiment\n",
    "from sweetbean.stimulus import Bandit, Text\n",
    "from sweetbean.variable import (\n",
    "    DataVariable,\n",
    "    FunctionVariable,\n",
    "    SharedVariable,\n",
    "    SideEffect,\n",
    "    TimelineVariable,\n",
    ")"
   ],
   "id": "465d8af802c206ec",
   "outputs": [],
   "execution_count": 1
  },
  {
   "metadata": {},
   "cell_type": "markdown",
   "source": [
    "### Timeline\n",
    "\n",
    "Here, we slowly change the values of `bandit_1` 10 to 0 and for `bandit_2` in reverse order from 0 to 10.\n"
   ],
   "id": "838416866ba97dbd"
  },
  {
   "metadata": {
    "ExecuteTime": {
     "end_time": "2024-12-01T18:55:32.918504Z",
     "start_time": "2024-12-01T18:55:32.916393Z"
    }
   },
   "cell_type": "code",
   "source": [
    "timeline = []\n",
    "for i in range(11):\n",
    "    timeline.append(\n",
    "        {\n",
    "            \"bandit_1\": {\"color\": \"orange\", \"value\": 10 - i},\n",
    "            \"bandit_2\": {\"color\": \"blue\", \"value\": i},\n",
    "        }\n",
    "    )"
   ],
   "id": "98d345f996176fad",
   "outputs": [],
   "execution_count": 2
  },
  {
   "metadata": {},
   "cell_type": "markdown",
   "source": [
    "### Implementation\n",
    "\n",
    "We also keep track of the score with a shared variable to present it between the bandit tasks."
   ],
   "id": "3496e0ca5f0ee9ce"
  },
  {
   "metadata": {
    "ExecuteTime": {
     "end_time": "2024-12-01T18:55:34.101112Z",
     "start_time": "2024-12-01T18:55:34.098339Z"
    }
   },
   "cell_type": "code",
   "source": [
    "bandit_1 = TimelineVariable(\"bandit_1\")\n",
    "bandit_2 = TimelineVariable(\"bandit_2\")\n",
    "\n",
    "score = SharedVariable(\"score\", 0)\n",
    "value = DataVariable(\"value\", 0)\n",
    "\n",
    "update_score = FunctionVariable(\n",
    "    \"update_score\", lambda sc, val: sc + val, [score, value]\n",
    ")\n",
    "\n",
    "update_score_side_effect = SideEffect(score, update_score)\n",
    "\n",
    "bandit_task = Bandit(\n",
    "    bandits=[bandit_1, bandit_2],\n",
    "    side_effects=[update_score_side_effect],\n",
    ")\n",
    "\n",
    "score_text = FunctionVariable(\"score_text\", lambda sc: f\"Score: {sc}\", [score])\n",
    "\n",
    "show_score = Text(duration=2000, text=score_text)\n",
    "\n",
    "trial_sequence = Block([bandit_task, show_score], timeline=timeline)\n",
    "experiment = Experiment([trial_sequence])"
   ],
   "id": "6a1ada08dec8c348",
   "outputs": [],
   "execution_count": 3
  },
  {
   "metadata": {},
   "cell_type": "markdown",
   "source": "Export the experiment to a html file and run it in the browser.",
   "id": "65ae4706ed556de1"
  },
  {
   "metadata": {
    "ExecuteTime": {
     "end_time": "2024-12-01T18:45:14.067346Z",
     "start_time": "2024-12-01T18:44:53.841870Z"
    }
   },
   "cell_type": "code",
   "source": "experiment.to_html(\"bandit.html\", path_local_download=\"bandit.json\")",
   "id": "80fbd261e9ae251a",
   "outputs": [],
   "execution_count": 4
  },
  {
   "metadata": {},
   "cell_type": "markdown",
   "source": [
    "### Results\n",
    "After running bandit.html, there should be a file called `bandit.json` in the download directory. You can open the file in your browser to see the results. First, we process it so that it only contains relevant data:"
   ],
   "id": "94f8c0dff2ef6200"
  },
  {
   "metadata": {
    "ExecuteTime": {
     "end_time": "2024-12-01T18:55:38.963190Z",
     "start_time": "2024-12-01T18:55:38.959118Z"
    }
   },
   "cell_type": "code",
   "source": [
    "import json\n",
    "from sweetbean.data import process_js, get_n_responses, until_response\n",
    "\n",
    "with open(\"bandit.json\") as f:\n",
    "    data_raw = json.load(f)\n",
    "    \n",
    "data = process_js(data_raw)"
   ],
   "id": "55d66aac9b404c84",
   "outputs": [],
   "execution_count": 4
  },
  {
   "metadata": {},
   "cell_type": "markdown",
   "source": "",
   "id": "d41ef6e70a2174c5"
  },
  {
   "metadata": {},
   "cell_type": "markdown",
   "source": "We can now get the number of times a response was made and get the data until before the third response:",
   "id": "b1332cb3777464bf"
  },
  {
   "metadata": {
    "ExecuteTime": {
     "end_time": "2024-12-01T18:55:40.224472Z",
     "start_time": "2024-12-01T18:55:40.219974Z"
    }
   },
   "cell_type": "code",
   "source": [
    "n_responses = get_n_responses(data)\n",
    "data_third_response = until_response(data, 3)\n",
    "data_third_response"
   ],
   "id": "89f6f6a3996ac454",
   "outputs": [
    {
     "data": {
      "text/plain": [
       "[{'rt': 1154,\n",
       "  'stimulus': ['<div class=\"slotmachine\" style=\"position: absolute; top:10vh; left:10vw; width: 35vw; height: 35vh; border-color: orange\"></div>',\n",
       "   '<div class=\"slotmachine\" style=\"position: absolute; top:10vh; left:55vw; width: 35vw; height: 35vh; border-color: blue\"></div>'],\n",
       "  'response': 0,\n",
       "  'trial_duration': None,\n",
       "  'duration': None,\n",
       "  'html_array': ['<div class=\"slotmachine\" style=\"position: absolute; top:10vh; left:10vw; width: 35vw; height: 35vh; border-color: orange\"></div>',\n",
       "   '<div class=\"slotmachine\" style=\"position: absolute; top:10vh; left:55vw; width: 35vw; height: 35vh; border-color: blue\"></div>'],\n",
       "  'values': [10, 0],\n",
       "  'time_after_response': 2000,\n",
       "  'type': 'jsPsychHtmlChoice',\n",
       "  'bandits': [{'color': 'orange', 'value': 10}, {'color': 'blue', 'value': 0}],\n",
       "  'value': 10,\n",
       "  'score': 10},\n",
       " {'rt': None,\n",
       "  'stimulus': \"<div style='color:white'>Score: 10</div>\",\n",
       "  'response': None,\n",
       "  'trial_duration': 2000,\n",
       "  'duration': 2000,\n",
       "  'choices': [],\n",
       "  'correct_key': '',\n",
       "  'type': 'jsPsychHtmlKeyboardResponse',\n",
       "  'text': 'Score: 10',\n",
       "  'color': 'white',\n",
       "  'correct': False},\n",
       " {'rt': 378,\n",
       "  'stimulus': ['<div class=\"slotmachine\" style=\"position: absolute; top:10vh; left:10vw; width: 35vw; height: 35vh; border-color: orange\"></div>',\n",
       "   '<div class=\"slotmachine\" style=\"position: absolute; top:10vh; left:55vw; width: 35vw; height: 35vh; border-color: blue\"></div>'],\n",
       "  'response': 0,\n",
       "  'trial_duration': None,\n",
       "  'duration': None,\n",
       "  'html_array': ['<div class=\"slotmachine\" style=\"position: absolute; top:10vh; left:10vw; width: 35vw; height: 35vh; border-color: orange\"></div>',\n",
       "   '<div class=\"slotmachine\" style=\"position: absolute; top:10vh; left:55vw; width: 35vw; height: 35vh; border-color: blue\"></div>'],\n",
       "  'values': [9, 1],\n",
       "  'time_after_response': 2000,\n",
       "  'type': 'jsPsychHtmlChoice',\n",
       "  'bandits': [{'color': 'orange', 'value': 9}, {'color': 'blue', 'value': 1}],\n",
       "  'value': 9,\n",
       "  'score': 19},\n",
       " {'rt': None,\n",
       "  'stimulus': \"<div style='color:white'>Score: 19</div>\",\n",
       "  'response': None,\n",
       "  'trial_duration': 2000,\n",
       "  'duration': 2000,\n",
       "  'choices': [],\n",
       "  'correct_key': '',\n",
       "  'type': 'jsPsychHtmlKeyboardResponse',\n",
       "  'text': 'Score: 19',\n",
       "  'color': 'white',\n",
       "  'correct': False},\n",
       " {'rt': 360,\n",
       "  'stimulus': ['<div class=\"slotmachine\" style=\"position: absolute; top:10vh; left:10vw; width: 35vw; height: 35vh; border-color: orange\"></div>',\n",
       "   '<div class=\"slotmachine\" style=\"position: absolute; top:10vh; left:55vw; width: 35vw; height: 35vh; border-color: blue\"></div>'],\n",
       "  'response': 0,\n",
       "  'trial_duration': None,\n",
       "  'duration': None,\n",
       "  'html_array': ['<div class=\"slotmachine\" style=\"position: absolute; top:10vh; left:10vw; width: 35vw; height: 35vh; border-color: orange\"></div>',\n",
       "   '<div class=\"slotmachine\" style=\"position: absolute; top:10vh; left:55vw; width: 35vw; height: 35vh; border-color: blue\"></div>'],\n",
       "  'values': [8, 2],\n",
       "  'time_after_response': 2000,\n",
       "  'type': 'jsPsychHtmlChoice',\n",
       "  'bandits': [{'color': 'orange', 'value': 8}, {'color': 'blue', 'value': 2}],\n",
       "  'value': 8,\n",
       "  'score': 27},\n",
       " {'rt': None,\n",
       "  'stimulus': \"<div style='color:white'>Score: 27</div>\",\n",
       "  'response': None,\n",
       "  'trial_duration': 2000,\n",
       "  'duration': 2000,\n",
       "  'choices': [],\n",
       "  'correct_key': '',\n",
       "  'type': 'jsPsychHtmlKeyboardResponse',\n",
       "  'text': 'Score: 27',\n",
       "  'color': 'white',\n",
       "  'correct': False}]"
      ]
     },
     "execution_count": 5,
     "metadata": {},
     "output_type": "execute_result"
    }
   ],
   "execution_count": 5
  },
  {
   "metadata": {},
   "cell_type": "markdown",
   "source": [
    "# Experiment on language model\n",
    "\n",
    "With the partial data, we can now run the experiment up to that point and then run the rest of the experiment on language input. To test this, we run it manually:"
   ],
   "id": "e7d854441716de90"
  },
  {
   "metadata": {
    "ExecuteTime": {
     "end_time": "2024-12-01T18:55:56.760055Z",
     "start_time": "2024-12-01T18:55:41.207411Z"
    }
   },
   "cell_type": "code",
   "source": "data_new, _ = experiment.run_on_language(input, data=data_third_response)",
   "id": "df2b43db78303c0",
   "outputs": [
    {
     "name": "stdout",
     "output_type": "stream",
     "text": [
      "hi\n"
     ]
    }
   ],
   "execution_count": 6
  },
  {
   "metadata": {
    "ExecuteTime": {
     "end_time": "2024-12-01T18:56:05.300751Z",
     "start_time": "2024-12-01T18:56:05.298031Z"
    }
   },
   "cell_type": "code",
   "source": "print(data_new)",
   "id": "9619a73c6f650c7e",
   "outputs": [
    {
     "name": "stdout",
     "output_type": "stream",
     "text": [
      "([{'rt': 1154, 'stimulus': ['<div class=\"slotmachine\" style=\"position: absolute; top:10vh; left:10vw; width: 35vw; height: 35vh; border-color: orange\"></div>', '<div class=\"slotmachine\" style=\"position: absolute; top:10vh; left:55vw; width: 35vw; height: 35vh; border-color: blue\"></div>'], 'response': 0, 'trial_duration': None, 'duration': None, 'html_array': ['<div class=\"slotmachine\" style=\"position: absolute; top:10vh; left:10vw; width: 35vw; height: 35vh; border-color: orange\"></div>', '<div class=\"slotmachine\" style=\"position: absolute; top:10vh; left:55vw; width: 35vw; height: 35vh; border-color: blue\"></div>'], 'values': [10, 0], 'time_after_response': 2000, 'type': 'jsPsychHtmlChoice', 'bandits': [{'color': 'orange', 'value': 10}, {'color': 'blue', 'value': 0}], 'value': 10, 'score': 10}, {'rt': None, 'stimulus': \"<div style='color:white'>Score: 10</div>\", 'response': None, 'trial_duration': 2000, 'duration': 2000, 'html_array': ['<div class=\"slotmachine\" style=\"position: absolute; top:10vh; left:10vw; width: 35vw; height: 35vh; border-color: orange\"></div>', '<div class=\"slotmachine\" style=\"position: absolute; top:10vh; left:55vw; width: 35vw; height: 35vh; border-color: blue\"></div>'], 'values': [10, 0], 'time_after_response': 2000, 'type': 'jsPsychHtmlKeyboardResponse', 'bandits': [{'color': 'orange', 'value': 10}, {'color': 'blue', 'value': 0}], 'value': 10, 'score': 10, 'choices': [], 'correct_key': '', 'text': 'Score: 10', 'color': 'white', 'correct': False}, {'rt': 378, 'stimulus': ['<div class=\"slotmachine\" style=\"position: absolute; top:10vh; left:10vw; width: 35vw; height: 35vh; border-color: orange\"></div>', '<div class=\"slotmachine\" style=\"position: absolute; top:10vh; left:55vw; width: 35vw; height: 35vh; border-color: blue\"></div>'], 'response': 0, 'trial_duration': None, 'duration': None, 'html_array': ['<div class=\"slotmachine\" style=\"position: absolute; top:10vh; left:10vw; width: 35vw; height: 35vh; border-color: orange\"></div>', '<div class=\"slotmachine\" style=\"position: absolute; top:10vh; left:55vw; width: 35vw; height: 35vh; border-color: blue\"></div>'], 'values': [9, 1], 'time_after_response': 2000, 'type': 'jsPsychHtmlChoice', 'bandits': [{'color': 'orange', 'value': 9}, {'color': 'blue', 'value': 1}], 'value': 9, 'score': 19, 'choices': [], 'correct_key': '', 'text': 'Score: 10', 'color': 'white', 'correct': False}, {'rt': None, 'stimulus': \"<div style='color:white'>Score: 19</div>\", 'response': None, 'trial_duration': 2000, 'duration': 2000, 'html_array': ['<div class=\"slotmachine\" style=\"position: absolute; top:10vh; left:10vw; width: 35vw; height: 35vh; border-color: orange\"></div>', '<div class=\"slotmachine\" style=\"position: absolute; top:10vh; left:55vw; width: 35vw; height: 35vh; border-color: blue\"></div>'], 'values': [9, 1], 'time_after_response': 2000, 'type': 'jsPsychHtmlKeyboardResponse', 'bandits': [{'color': 'orange', 'value': 9}, {'color': 'blue', 'value': 1}], 'value': 9, 'score': 19, 'choices': [], 'correct_key': '', 'text': 'Score: 19', 'color': 'white', 'correct': False}, {'rt': 360, 'stimulus': ['<div class=\"slotmachine\" style=\"position: absolute; top:10vh; left:10vw; width: 35vw; height: 35vh; border-color: orange\"></div>', '<div class=\"slotmachine\" style=\"position: absolute; top:10vh; left:55vw; width: 35vw; height: 35vh; border-color: blue\"></div>'], 'response': 0, 'trial_duration': None, 'duration': None, 'html_array': ['<div class=\"slotmachine\" style=\"position: absolute; top:10vh; left:10vw; width: 35vw; height: 35vh; border-color: orange\"></div>', '<div class=\"slotmachine\" style=\"position: absolute; top:10vh; left:55vw; width: 35vw; height: 35vh; border-color: blue\"></div>'], 'values': [8, 2], 'time_after_response': 2000, 'type': 'jsPsychHtmlChoice', 'bandits': [{'color': 'orange', 'value': 8}, {'color': 'blue', 'value': 2}], 'value': 8, 'score': 27, 'choices': [], 'correct_key': '', 'text': 'Score: 19', 'color': 'white', 'correct': False}, {'rt': None, 'stimulus': \"<div style='color:white'>Score: 27</div>\", 'response': None, 'trial_duration': 2000, 'duration': 2000, 'html_array': ['<div class=\"slotmachine\" style=\"position: absolute; top:10vh; left:10vw; width: 35vw; height: 35vh; border-color: orange\"></div>', '<div class=\"slotmachine\" style=\"position: absolute; top:10vh; left:55vw; width: 35vw; height: 35vh; border-color: blue\"></div>'], 'values': [8, 2], 'time_after_response': 2000, 'type': 'jsPsychHtmlKeyboardResponse', 'bandits': [{'color': 'orange', 'value': 8}, {'color': 'blue', 'value': 2}], 'value': 8, 'score': 27, 'choices': [], 'correct_key': '', 'text': 'Score: 27', 'color': 'white', 'correct': False}, {'duration': None, 'html_array': ['<div class=\"slotmachine\" style=\"position: absolute; top:10.0vh; left:10.0vw; width: 35.0vw; height: 35.0vh; border-color: orange\"></div>', '<div class=\"slotmachine\" style=\"position: absolute; top:10.0vh; left:55.0vw; width: 35.0vw; height: 35.0vh; border-color: blue\"></div>'], 'values': [7, 3], 'time_after_response': 2000, 'type': 'jsPsychHtmlChoice', 'bandits': [{'color': 'orange', 'value': 7}, {'color': 'blue', 'value': 3}], 'response': -1, 'value': 0}, {'duration': 2000, 'stimulus': \"<div style='color:white'>Score: 40</div>\", 'choices': [], 'correct_key': '', 'type': 'jsPsychHtmlKeyboardResponse', 'text': 'Score: 40', 'color': 'white'}, {'duration': None, 'html_array': ['<div class=\"slotmachine\" style=\"position: absolute; top:10.0vh; left:10.0vw; width: 35.0vw; height: 35.0vh; border-color: orange\"></div>', '<div class=\"slotmachine\" style=\"position: absolute; top:10.0vh; left:55.0vw; width: 35.0vw; height: 35.0vh; border-color: blue\"></div>'], 'values': [6, 4], 'time_after_response': 2000, 'type': 'jsPsychHtmlChoice', 'bandits': [{'color': 'orange', 'value': 6}, {'color': 'blue', 'value': 4}], 'response': -1, 'value': 0}, {'duration': 2000, 'stimulus': \"<div style='color:white'>Score: 50</div>\", 'choices': [], 'correct_key': '', 'type': 'jsPsychHtmlKeyboardResponse', 'text': 'Score: 50', 'color': 'white'}, {'duration': None, 'html_array': ['<div class=\"slotmachine\" style=\"position: absolute; top:10.0vh; left:10.0vw; width: 35.0vw; height: 35.0vh; border-color: orange\"></div>', '<div class=\"slotmachine\" style=\"position: absolute; top:10.0vh; left:55.0vw; width: 35.0vw; height: 35.0vh; border-color: blue\"></div>'], 'values': [5, 5], 'time_after_response': 2000, 'type': 'jsPsychHtmlChoice', 'bandits': [{'color': 'orange', 'value': 5}, {'color': 'blue', 'value': 5}], 'response': -1, 'value': 0}, {'duration': 2000, 'stimulus': \"<div style='color:white'>Score: 60</div>\", 'choices': [], 'correct_key': '', 'type': 'jsPsychHtmlKeyboardResponse', 'text': 'Score: 60', 'color': 'white'}, {'duration': None, 'html_array': ['<div class=\"slotmachine\" style=\"position: absolute; top:10.0vh; left:10.0vw; width: 35.0vw; height: 35.0vh; border-color: orange\"></div>', '<div class=\"slotmachine\" style=\"position: absolute; top:10.0vh; left:55.0vw; width: 35.0vw; height: 35.0vh; border-color: blue\"></div>'], 'values': [4, 6], 'time_after_response': 2000, 'type': 'jsPsychHtmlChoice', 'bandits': [{'color': 'orange', 'value': 4}, {'color': 'blue', 'value': 6}], 'response': -1, 'value': 0}, {'duration': 2000, 'stimulus': \"<div style='color:white'>Score: 70</div>\", 'choices': [], 'correct_key': '', 'type': 'jsPsychHtmlKeyboardResponse', 'text': 'Score: 70', 'color': 'white'}, {'duration': None, 'html_array': ['<div class=\"slotmachine\" style=\"position: absolute; top:10.0vh; left:10.0vw; width: 35.0vw; height: 35.0vh; border-color: orange\"></div>', '<div class=\"slotmachine\" style=\"position: absolute; top:10.0vh; left:55.0vw; width: 35.0vw; height: 35.0vh; border-color: blue\"></div>'], 'values': [3, 7], 'time_after_response': 2000, 'type': 'jsPsychHtmlChoice', 'bandits': [{'color': 'orange', 'value': 3}, {'color': 'blue', 'value': 7}], 'response': -1, 'value': 0}, {'duration': 2000, 'stimulus': \"<div style='color:white'>Score: 80</div>\", 'choices': [], 'correct_key': '', 'type': 'jsPsychHtmlKeyboardResponse', 'text': 'Score: 80', 'color': 'white'}, {'duration': None, 'html_array': ['<div class=\"slotmachine\" style=\"position: absolute; top:10.0vh; left:10.0vw; width: 35.0vw; height: 35.0vh; border-color: orange\"></div>', '<div class=\"slotmachine\" style=\"position: absolute; top:10.0vh; left:55.0vw; width: 35.0vw; height: 35.0vh; border-color: blue\"></div>'], 'values': [2, 8], 'time_after_response': 2000, 'type': 'jsPsychHtmlChoice', 'bandits': [{'color': 'orange', 'value': 2}, {'color': 'blue', 'value': 8}], 'response': 0, 'value': 2}, {'duration': 2000, 'stimulus': \"<div style='color:white'>Score: 90</div>\", 'choices': [], 'correct_key': '', 'type': 'jsPsychHtmlKeyboardResponse', 'text': 'Score: 90', 'color': 'white'}, {'duration': None, 'html_array': ['<div class=\"slotmachine\" style=\"position: absolute; top:10.0vh; left:10.0vw; width: 35.0vw; height: 35.0vh; border-color: orange\"></div>', '<div class=\"slotmachine\" style=\"position: absolute; top:10.0vh; left:55.0vw; width: 35.0vw; height: 35.0vh; border-color: blue\"></div>'], 'values': [1, 9], 'time_after_response': 2000, 'type': 'jsPsychHtmlChoice', 'bandits': [{'color': 'orange', 'value': 1}, {'color': 'blue', 'value': 9}], 'response': 0, 'value': 1}, {'duration': 2000, 'stimulus': \"<div style='color:white'>Score: 100</div>\", 'choices': [], 'correct_key': '', 'type': 'jsPsychHtmlKeyboardResponse', 'text': 'Score: 100', 'color': 'white'}, {'duration': None, 'html_array': ['<div class=\"slotmachine\" style=\"position: absolute; top:10.0vh; left:10.0vw; width: 35.0vw; height: 35.0vh; border-color: orange\"></div>', '<div class=\"slotmachine\" style=\"position: absolute; top:10.0vh; left:55.0vw; width: 35.0vw; height: 35.0vh; border-color: blue\"></div>'], 'values': [0, 10], 'time_after_response': 2000, 'type': 'jsPsychHtmlChoice', 'bandits': [{'color': 'orange', 'value': 0}, {'color': 'blue', 'value': 10}], 'response': 0, 'value': 0}, {'duration': 2000, 'stimulus': \"<div style='color:white'>Score: 110</div>\", 'choices': [], 'correct_key': '', 'type': 'jsPsychHtmlKeyboardResponse', 'text': 'Score: 110', 'color': 'white'}], [' You see 2 bandits. Bandit 1 is orange. Bandit 2 is blue. Choose a bandit by naming the number of the bandit. You name <<1>>. The value of the chosen bandit was 10.', 'You see \"Score: 10\" in \"white\" for 2000ms.', ' You see 2 bandits. Bandit 1 is orange. Bandit 2 is blue. Choose a bandit by naming the number of the bandit. You name <<1>>. The value of the chosen bandit was 9.', 'You see \"Score: 19\" in \"white\" for 2000ms.', ' You see 2 bandits. Bandit 1 is orange. Bandit 2 is blue. Choose a bandit by naming the number of the bandit. You name <<1>>. The value of the chosen bandit was 8.', 'You see \"Score: 27\" in \"white\" for 2000ms.', ' You see 2 bandits. Bandit 1 is orange. Bandit 2 is blue. Choose a bandit by naming the number of the bandit. You name <<0>>. The response was invalid.', 'You see \"Score: 40\" in \"white\" for 2000ms.', ' You see 2 bandits. Bandit 1 is orange. Bandit 2 is blue. Choose a bandit by naming the number of the bandit. You name <<0>>. The response was invalid.', 'You see \"Score: 50\" in \"white\" for 2000ms.', ' You see 2 bandits. Bandit 1 is orange. Bandit 2 is blue. Choose a bandit by naming the number of the bandit. You name <<0>>. The response was invalid.', 'You see \"Score: 60\" in \"white\" for 2000ms.', ' You see 2 bandits. Bandit 1 is orange. Bandit 2 is blue. Choose a bandit by naming the number of the bandit. You name <<0>>. The response was invalid.', 'You see \"Score: 70\" in \"white\" for 2000ms.', ' You see 2 bandits. Bandit 1 is orange. Bandit 2 is blue. Choose a bandit by naming the number of the bandit. You name <<0>>. The response was invalid.', 'You see \"Score: 80\" in \"white\" for 2000ms.', ' You see 2 bandits. Bandit 1 is orange. Bandit 2 is blue. Choose a bandit by naming the number of the bandit. You name <<01>>. The value of the chosen bandit was 2.', 'You see \"Score: 90\" in \"white\" for 2000ms.', ' You see 2 bandits. Bandit 1 is orange. Bandit 2 is blue. Choose a bandit by naming the number of the bandit. You name <<1>>. The value of the chosen bandit was 1.', 'You see \"Score: 100\" in \"white\" for 2000ms.', ' You see 2 bandits. Bandit 1 is orange. Bandit 2 is blue. Choose a bandit by naming the number of the bandit. You name <<1>>. The value of the chosen bandit was 0.', 'You see \"Score: 110\" in \"white\" for 2000ms.'])\n"
     ]
    }
   ],
   "execution_count": 7
  },
  {
   "metadata": {},
   "cell_type": "code",
   "outputs": [],
   "execution_count": null,
   "source": "",
   "id": "bed65e5637aef81f"
  }
 ],
 "metadata": {
  "kernelspec": {
   "display_name": "Python 3",
   "language": "python",
   "name": "python3"
  },
  "language_info": {
   "codemirror_mode": {
    "name": "ipython",
    "version": 2
   },
   "file_extension": ".py",
   "mimetype": "text/x-python",
   "name": "python",
   "nbconvert_exporter": "python",
   "pygments_lexer": "ipython2",
   "version": "2.7.6"
  }
 },
 "nbformat": 4,
 "nbformat_minor": 5
}
